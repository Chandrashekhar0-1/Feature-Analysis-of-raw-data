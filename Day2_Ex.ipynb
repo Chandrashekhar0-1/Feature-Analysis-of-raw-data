{
 "cells": [
  {
   "cell_type": "code",
   "execution_count": 2,
   "id": "e28d9642",
   "metadata": {},
   "outputs": [],
   "source": [
    "x=10"
   ]
  },
  {
   "cell_type": "code",
   "execution_count": 3,
   "id": "4c26fd52",
   "metadata": {},
   "outputs": [],
   "source": [
    "y=10.23"
   ]
  },
  {
   "cell_type": "code",
   "execution_count": 5,
   "id": "268af451",
   "metadata": {},
   "outputs": [],
   "source": [
    "a=x+y"
   ]
  },
  {
   "cell_type": "code",
   "execution_count": 6,
   "id": "04f12eb9",
   "metadata": {},
   "outputs": [
    {
     "name": "stdout",
     "output_type": "stream",
     "text": [
      "20.23\n"
     ]
    }
   ],
   "source": [
    "print(a)"
   ]
  },
  {
   "cell_type": "code",
   "execution_count": 18,
   "id": "eed976ab",
   "metadata": {},
   "outputs": [],
   "source": [
    "b=20"
   ]
  },
  {
   "cell_type": "code",
   "execution_count": 19,
   "id": "2655b181",
   "metadata": {},
   "outputs": [
    {
     "name": "stdout",
     "output_type": "stream",
     "text": [
      "40.230000000000004\n"
     ]
    }
   ],
   "source": [
    "print(a + b)"
   ]
  },
  {
   "cell_type": "code",
   "execution_count": 20,
   "id": "0fa036ec",
   "metadata": {},
   "outputs": [
    {
     "name": "stdout",
     "output_type": "stream",
     "text": [
      "20.230000000000004\n"
     ]
    }
   ],
   "source": [
    "print(a+20-b)"
   ]
  },
  {
   "cell_type": "code",
   "execution_count": 23,
   "id": "63ec394a",
   "metadata": {},
   "outputs": [
    {
     "name": "stdout",
     "output_type": "stream",
     "text": [
      "40.230000000000004\n"
     ]
    }
   ],
   "source": [
    "print(a+20)"
   ]
  },
  {
   "cell_type": "code",
   "execution_count": 25,
   "id": "06119301",
   "metadata": {},
   "outputs": [],
   "source": [
    "year=2023\n",
    "Year=2024\n",
    "YEAR=2025"
   ]
  },
  {
   "cell_type": "code",
   "execution_count": 26,
   "id": "ebb78ca4",
   "metadata": {},
   "outputs": [
    {
     "name": "stdout",
     "output_type": "stream",
     "text": [
      "2023\n"
     ]
    }
   ],
   "source": [
    "print(year)"
   ]
  },
  {
   "cell_type": "code",
   "execution_count": 28,
   "id": "5eac8d8d",
   "metadata": {},
   "outputs": [
    {
     "name": "stdout",
     "output_type": "stream",
     "text": [
      "2023 2024 2025\n"
     ]
    }
   ],
   "source": [
    "print(year, Year, YEAR)"
   ]
  },
  {
   "cell_type": "code",
   "execution_count": 32,
   "id": "b2a862c0",
   "metadata": {},
   "outputs": [],
   "source": [
    "A=[1, 2.10, 'A', \"a\", 'My name']"
   ]
  },
  {
   "cell_type": "code",
   "execution_count": 31,
   "id": "6d61ad45",
   "metadata": {},
   "outputs": [
    {
     "name": "stdout",
     "output_type": "stream",
     "text": [
      "[1, 2.1, 'A', 'a']\n"
     ]
    }
   ],
   "source": [
    "print(A)"
   ]
  },
  {
   "cell_type": "code",
   "execution_count": 33,
   "id": "6b961965",
   "metadata": {},
   "outputs": [],
   "source": [
    " List = [1, 2.10, 'A', \"a\", 'My name']  "
   ]
  },
  {
   "cell_type": "code",
   "execution_count": 34,
   "id": "92a3631f",
   "metadata": {},
   "outputs": [
    {
     "name": "stdout",
     "output_type": "stream",
     "text": [
      "[1, 2.1, 'A', 'a', 'My name']\n"
     ]
    }
   ],
   "source": [
    "print(List)"
   ]
  }
 ],
 "metadata": {
  "kernelspec": {
   "display_name": "Python 3",
   "language": "python",
   "name": "python3"
  },
  "language_info": {
   "codemirror_mode": {
    "name": "ipython",
    "version": 3
   },
   "file_extension": ".py",
   "mimetype": "text/x-python",
   "name": "python",
   "nbconvert_exporter": "python",
   "pygments_lexer": "ipython3",
   "version": "3.11.9"
  }
 },
 "nbformat": 4,
 "nbformat_minor": 5
}
